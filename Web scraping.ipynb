{
  "cells": [
    {
      "cell_type": "code",
      "execution_count": null,
      "metadata": {
        "colab": {
          "base_uri": "https://localhost:8080/"
        },
        "id": "LKNmAoK7IsYo",
        "outputId": "ec294bd5-29df-479b-90e3-04799cec3e86"
      },
      "outputs": [
        {
          "name": "stdout",
          "output_type": "stream",
          "text": [
            "Looking in indexes: https://pypi.org/simple, https://us-python.pkg.dev/colab-wheels/public/simple/\n",
            "Requirement already satisfied: requests in /usr/local/lib/python3.9/dist-packages (2.27.1)\n",
            "Requirement already satisfied: idna<4,>=2.5 in /usr/local/lib/python3.9/dist-packages (from requests) (3.4)\n",
            "Requirement already satisfied: urllib3<1.27,>=1.21.1 in /usr/local/lib/python3.9/dist-packages (from requests) (1.26.15)\n",
            "Requirement already satisfied: charset-normalizer~=2.0.0 in /usr/local/lib/python3.9/dist-packages (from requests) (2.0.12)\n",
            "Requirement already satisfied: certifi>=2017.4.17 in /usr/local/lib/python3.9/dist-packages (from requests) (2022.12.7)\n"
          ]
        }
      ],
      "source": [
        "pip install requests"
      ]
    },
    {
      "cell_type": "code",
      "execution_count": null,
      "metadata": {
        "colab": {
          "base_uri": "https://localhost:8080/"
        },
        "id": "U3gi1TN2It9q",
        "outputId": "217f40a5-cf31-4a41-9a35-3d997229af92"
      },
      "outputs": [
        {
          "name": "stdout",
          "output_type": "stream",
          "text": [
            "Looking in indexes: https://pypi.org/simple, https://us-python.pkg.dev/colab-wheels/public/simple/\n",
            "Requirement already satisfied: beautifulsoup4 in /usr/local/lib/python3.9/dist-packages (4.11.2)\n",
            "Requirement already satisfied: soupsieve>1.2 in /usr/local/lib/python3.9/dist-packages (from beautifulsoup4) (2.4)\n"
          ]
        }
      ],
      "source": [
        "pip install beautifulsoup4"
      ]
    },
    {
      "cell_type": "code",
      "execution_count": null,
      "metadata": {
        "id": "f56EkbWlv631"
      },
      "outputs": [],
      "source": [
        "import pandas as pd"
      ]
    },
    {
      "cell_type": "code",
      "execution_count": null,
      "metadata": {
        "id": "Ua_5jC3u5qf2"
      },
      "outputs": [],
      "source": [
        "pro_name = []\n",
        "sale_price = []\n",
        "discount_per = []\n",
        "original_price=[]\n",
        "avgerage_stars = []\n",
        "no_reviews = []\n",
        "additional_offer = []"
      ]
    },
    {
      "cell_type": "code",
      "execution_count": null,
      "metadata": {
        "id": "9KsDUfTiw_lT"
      },
      "outputs": [],
      "source": [
        "for i in range(1,41):\n",
        "  proj = requests.get(f'https://www.boat-lifestyle.com/collections/all-products?page={i}').text\n",
        "  soup = BeautifulSoup(proj, 'html.parser')\n",
        "  products = soup.find('div',id='Huratips_Loop')\n",
        "  content = products.find_all('product-item')\n",
        "\n",
        "  #PRODUCT NAME:\n",
        "  name = products.find_all('div',class_='d-flex position-relative')\n",
        "  for i in name:\n",
        "    pro_name.append((i.text).strip())\n",
        "\n",
        "  #PRICE DETAILS\n",
        "  det = products.find_all('div',class_='price-list price-list--centered')\n",
        "  for i in det:\n",
        "    x = (i.text).strip().split('\\n')\n",
        "    if len(x) ==1:\n",
        "      sale = x\n",
        "      sale_price.append(0)\n",
        "      discount_per.append(0)\n",
        "      original_price.append((x[0]).replace('Sale price₹','').replace(',','').strip())\n",
        "    else:\n",
        "      sale,dis,x,og = x\n",
        "      sale_price.append((sale).replace('Sale price₹','').replace(',','').strip())\n",
        "      discount_per.append(int((dis).replace('% off','').strip()))\n",
        "      original_price.append(int((og).replace('Regular price₹ ','').replace(',','').strip()))\n",
        "\n",
        "\n",
        "  #AVERAGE STARS:\n",
        "  avg_stars = products.find_all('div',class_='rating__stars')\n",
        "  for i in avg_stars:\n",
        "    avgerage_stars.append(int((i.text).replace('★','').replace('.','').replace('Be the first to review','0').strip()))\n",
        "\n",
        "  #NUMBER OF REVIEWS:\n",
        "  reviews = products.find_all('span',class_='rating__caption')\n",
        "  for i in reviews:\n",
        "    no_reviews.append(int((i.text).replace('review','').replace('s','').strip()))\n",
        "\n",
        "  #ADDITIONAL OFFER:\n",
        "  additional = products.find_all('p',class_='custom-save-price')\n",
        "  for i in additional:\n",
        "    additional_offer.append((i.text).strip())"
      ]
    },
    {
      "cell_type": "code",
      "execution_count": null,
      "metadata": {
        "id": "2H5v2pg2DPYK"
      },
      "outputs": [],
      "source": [
        "web_data = {\n",
        "    'Product_name' : pro_name,\n",
        "    'Sale_price' : sale_price,\n",
        "    'Discount_percent' : discount_per,\n",
        "    'Original_price' : original_price,\n",
        "    'Average_stars' : avgerage_stars,\n",
        "    'Reviews' : no_reviews,\n",
        "    'Additional_offer' : additional_offer,\n",
        "}"
      ]
    },
    {
      "cell_type": "code",
      "execution_count": null,
      "metadata": {
        "id": "OtuT6DxOGy0s"
      },
      "outputs": [],
      "source": [
        "df = pd.DataFrame(web_data)"
      ]
    },
    {
      "cell_type": "code",
      "execution_count": null,
      "metadata": {
        "id": "gT8bW1ZwFJiD"
      },
      "outputs": [],
      "source": [
        "df.to_csv('aoml_boat.csv', index=True)"
      ]
    },
    {
      "cell_type": "code",
      "execution_count": null,
      "metadata": {
        "id": "z1FRs0zXKB79"
      },
      "outputs": [],
      "source": [
        "test = requests.get('https://www.boat-lifestyle.com/collections/all-products?page=5').text"
      ]
    },
    {
      "cell_type": "code",
      "execution_count": null,
      "metadata": {
        "id": "bZMJn3_9X_7W"
      },
      "outputs": [],
      "source": [
        "s = BeautifulSoup(test, 'html.parser')"
      ]
    },
    {
      "cell_type": "code",
      "execution_count": null,
      "metadata": {
        "id": "foIG1b3BWl_g"
      },
      "outputs": [],
      "source": [
        "pro = s.find('div',id='Huratips_Loop')"
      ]
    },
    {
      "cell_type": "code",
      "execution_count": null,
      "metadata": {
        "id": "DWMkdSeMXPPg"
      },
      "outputs": [],
      "source": [
        "con = pro.find_all('product-item')"
      ]
    },
    {
      "cell_type": "code",
      "execution_count": null,
      "metadata": {
        "id": "eW_UHzzHfwVX"
      },
      "outputs": [],
      "source": [
        "names = []\n",
        "name = products.find_all('div',class_='d-flex position-relative')\n",
        "for i in name:\n",
        "  names.append((i.text).strip())"
      ]
    },
    {
      "cell_type": "code",
      "execution_count": null,
      "metadata": {
        "id": "hNrxurqM39NR"
      },
      "outputs": [],
      "source": [
        "names"
      ]
    },
    {
      "cell_type": "code",
      "execution_count": null,
      "metadata": {
        "id": "2pycNEUgk-Jq"
      },
      "outputs": [],
      "source": [
        "no = []\n",
        "dis = products.find_all('div',class_='price-list price-list--centered')\n",
        "for i in dis:\n",
        "  x = ((i.text))\n",
        "  break"
      ]
    },
    {
      "cell_type": "code",
      "execution_count": null,
      "metadata": {
        "colab": {
          "base_uri": "https://localhost:8080/",
          "height": 36
        },
        "id": "lk7rjCkdKqjH",
        "outputId": "88721b89-6b31-4e68-8028-8a889c1cc289"
      },
      "outputs": [
        {
          "data": {
            "application/vnd.google.colaboratory.intrinsic+json": {
              "type": "string"
            },
            "text/plain": [
              "'\\nSale price₹ 1,299\\n63% off\\n\\nRegular price₹ 3,490'"
            ]
          },
          "execution_count": 197,
          "metadata": {},
          "output_type": "execute_result"
        }
      ],
      "source": [
        "x.replace('\\nSale price₹ ','')"
      ]
    },
    {
      "cell_type": "code",
      "execution_count": null,
      "metadata": {
        "colab": {
          "base_uri": "https://localhost:8080/"
        },
        "id": "WrSekap5oxnj",
        "outputId": "346086ed-c438-4b22-bcec-150abc737b2c"
      },
      "outputs": [
        {
          "data": {
            "text/plain": [
              "['Sale price₹ 4,990']"
            ]
          },
          "execution_count": 240,
          "metadata": {},
          "output_type": "execute_result"
        }
      ],
      "source": [
        "o = []\n",
        "offer = pro.find_all('div',class_='price-list price-list--centered')\n",
        "count =0\n",
        "for i in offer:\n",
        "  x = (i.text).strip().split('\\n')\n",
        "  if count ==1:\n",
        "    break\n",
        "  count+=1\n",
        "if len(x) ==1:\n",
        "  sale = x\n",
        "else:\n",
        "  sale,dis,x,og = x\n",
        "sale\n"
      ]
    },
    {
      "cell_type": "code",
      "execution_count": null,
      "metadata": {
        "colab": {
          "base_uri": "https://localhost:8080/"
        },
        "id": "jUKctmQjpHus",
        "outputId": "73162188-2b79-4f6e-ea17-34aec9e3be91"
      },
      "outputs": [
        {
          "data": {
            "text/plain": [
              "[999, 2990, 2990, 2499, 999, 699, 5990, 1290, 6990]"
            ]
          },
          "execution_count": 142,
          "metadata": {},
          "output_type": "execute_result"
        }
      ],
      "source": [
        "r = []\n",
        "regular_price = products.find_all('span',class_='price price--compare line-through')\n",
        "for i in regular_price:\n",
        "  r.append(int((i.text).replace('Regular price₹ ','').replace(',','').strip()))\n",
        "r"
      ]
    },
    {
      "cell_type": "code",
      "execution_count": null,
      "metadata": {
        "colab": {
          "base_uri": "https://localhost:8080/"
        },
        "id": "ORQFCLpEpYZ7",
        "outputId": "5e3fe6ec-c2ed-4acf-ba4b-9526cf617650"
      },
      "outputs": [
        {
          "data": {
            "text/plain": [
              "[0, 0, 50, 48, 0, 50, 48, 0, 49]"
            ]
          },
          "execution_count": 219,
          "metadata": {},
          "output_type": "execute_result"
        }
      ],
      "source": [
        "nn=[]\n",
        "avg_stars = pro.find_all('div',class_='rating__stars')\n",
        "for i in avg_stars:\n",
        "  nn.append(int((i.text).replace('★','').replace('.','').replace('Be the first to review','0').strip()))\n",
        "nn"
      ]
    },
    {
      "cell_type": "code",
      "execution_count": null,
      "metadata": {
        "colab": {
          "base_uri": "https://localhost:8080/"
        },
        "id": "G75RKz3dpqXC",
        "outputId": "667a5dad-47cb-4650-e6b8-1e7ca79e2117"
      },
      "outputs": [
        {
          "data": {
            "text/plain": [
              "[423, 29, 40, 1, 1, 4, 156, 7]"
            ]
          },
          "execution_count": 153,
          "metadata": {},
          "output_type": "execute_result"
        }
      ],
      "source": [
        "re = []\n",
        "reviews = products.find_all('span',class_='rating__caption')\n",
        "for i in reviews:\n",
        "  re.append(int((i.text).replace('review','').replace('s','').strip()))\n",
        "re"
      ]
    },
    {
      "cell_type": "code",
      "execution_count": null,
      "metadata": {
        "colab": {
          "base_uri": "https://localhost:8080/"
        },
        "id": "UMk3_Gr3p50A",
        "outputId": "1d22e27a-fea8-4209-9c68-ac4d1c9f3422"
      },
      "outputs": [
        {
          "data": {
            "text/plain": [
              "['Free Shipping available',\n",
              " '₹15 Extra Discount on UPI',\n",
              " '₹15 Extra Discount on UPI',\n",
              " '₹15 Extra Discount on UPI',\n",
              " 'Free Shipping available',\n",
              " 'Free Shipping available',\n",
              " '₹15 Extra Discount on UPI',\n",
              " 'Free Shipping available',\n",
              " '₹15 Extra Discount on UPI']"
            ]
          },
          "execution_count": 155,
          "metadata": {},
          "output_type": "execute_result"
        }
      ],
      "source": [
        "off=[]\n",
        "additional = products.find_all('p',class_='custom-save-price')\n",
        "for i in additional:\n",
        "  off.append((i.text).strip())\n",
        "off"
      ]
    },
    {
      "cell_type": "code",
      "execution_count": null,
      "metadata": {
        "colab": {
          "base_uri": "https://localhost:8080/"
        },
        "id": "Nph06LEQqM3x",
        "outputId": "80cfe1b0-e31e-48ee-bff1-b2c9c71292ca"
      },
      "outputs": [
        {
          "data": {
            "text/plain": [
              "['10mm Drivers',\n",
              " '10mm Drivers',\n",
              " 'Up to 40HRS Playback',\n",
              " 'ENx™ Technology',\n",
              " '10mm Drivers',\n",
              " 'HD Display',\n",
              " '10mm Drivers',\n",
              " '700+ Active Modes']"
            ]
          },
          "execution_count": 156,
          "metadata": {},
          "output_type": "execute_result"
        }
      ],
      "source": [
        "ft1 = []\n",
        "feature1 = products.find_all('span',class_='feature feature-1')\n",
        "for i in feature1:\n",
        "  ft1.append((i.text).strip())\n",
        "ft1"
      ]
    },
    {
      "cell_type": "code",
      "execution_count": null,
      "metadata": {
        "id": "euKSUn_0qf3J"
      },
      "outputs": [],
      "source": [
        "feature2 = products.find_all('span',class_='feature feature-2')\n",
        "for i in feature2:\n",
        "  print(i.text)"
      ]
    },
    {
      "cell_type": "code",
      "execution_count": null,
      "metadata": {
        "id": "nTk05uYnqjbG"
      },
      "outputs": [],
      "source": [
        "feature3 = products.find_all('span',class_='feature feature-3')\n",
        "for i in feature3:\n",
        "  print(i.text)"
      ]
    }
  ],
  "metadata": {
    "colab": {
      "provenance": []
    },
    "gpuClass": "standard",
    "kernelspec": {
      "display_name": "Python 3",
      "name": "python3"
    },
    "language_info": {
      "name": "python"
    }
  },
  "nbformat": 4,
  "nbformat_minor": 0
}
